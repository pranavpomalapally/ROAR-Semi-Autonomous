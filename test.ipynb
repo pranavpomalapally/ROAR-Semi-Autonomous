{
 "cells": [
  {
   "cell_type": "code",
   "execution_count": 1,
   "id": "aef7c5eb",
   "metadata": {},
   "outputs": [],
   "source": [
    "from pathlib import Path\n",
    "from ROAR.utilities_module.data_structures_models import Transform, Location\n",
    "import numpy as np\n",
    "from typing import Tuple, Optional\n",
    "import cv2\n",
    "import plotly.express as px\n",
    "import matplotlib.pyplot as plt\n",
    "\n",
    "%matplotlib inline\n"
   ]
  },
  {
   "cell_type": "code",
   "execution_count": 2,
   "id": "bde98bc3",
   "metadata": {},
   "outputs": [],
   "source": [
    "\n",
    "class Map:\n",
    "    def __init__(self,\n",
    "                 x_offset: float, y_offset: float, x_scale: float, y_scale: float,\n",
    "                 x_width: int = 5000, y_height: int = 5000, buffer: int = 100,\n",
    "                 name: str = \"map\"\n",
    "                 ):\n",
    "        self.name = name\n",
    "        self.x_offset = x_offset\n",
    "        self.y_offset = y_offset\n",
    "        self.x_scale = x_scale\n",
    "        self.y_scale = y_scale\n",
    "        self.x_width = x_width\n",
    "        self.y_height = y_height\n",
    "        self.buffer = buffer\n",
    "        self.map = np.zeros(shape=(self.y_height, self.x_width))\n",
    "\n",
    "    def world_loc_to_occu_map_coord(self, loc: Location) -> Tuple[int, int]:\n",
    "        \"\"\"\n",
    "        Takes in a coordinate in the world reference frame and transform it into the occupancy map coordinate by\n",
    "        applying the equation\n",
    "        `int( (WORLD + OFFSET ) * SCALE)`\n",
    "\n",
    "        Args:\n",
    "            loc:\n",
    "\n",
    "        Returns:\n",
    "\n",
    "        \"\"\"\n",
    "        x = int((loc.x + self.x_offset) * self.x_scale) + self.buffer\n",
    "        y = int((loc.z + self.y_offset) * self.y_scale) + self.buffer\n",
    "        return x, y\n",
    "\n",
    "    def world_arr_to_occu_map(self, arr: np.ndarray) -> np.ndarray:\n",
    "        xs = ((arr[:, 0] + self.x_offset) * self.x_scale + self.buffer).astype(int)\n",
    "        ys = ((arr[:, 1] + self.y_offset) * self.y_scale + self.buffer).astype(int)\n",
    "        return np.array([xs, ys]).T\n",
    "\n",
    "    def update(self, points: np.ndarray, val=1) -> int:\n",
    "        \"\"\"\n",
    "\n",
    "        Args:\n",
    "            val: value to update those points to\n",
    "            points: points is a 2D numpy array consist of X and Z coordinates\n",
    "\n",
    "        Returns:\n",
    "            number of points updated\n",
    "        \"\"\"\n",
    "        points = self.world_arr_to_occu_map(points)\n",
    "        self.map[points[:, 1], points[:, 0]] = val\n",
    "        return len(points)\n",
    "\n",
    "    def visualize(self, dsize: Optional[Tuple] = None):\n",
    "        img = self.map.copy()\n",
    "        if dsize:\n",
    "            img = cv2.resize(img, dsize=dsize)\n",
    "        plt.imshow(img,cmap='gray')\n",
    "        plt.show()\n",
    "#         cv2.imshow(self.name, img)\n",
    "\n",
    "    @staticmethod\n",
    "    def moving_average(a, n=3) :\n",
    "        ret_x = np.cumsum(a[:, 0], dtype=float)\n",
    "        ret_z = np.cumsum(a[:, 1], dtype=float)\n",
    "\n",
    "        ret_x[n:] = ret_x[n:] - ret_x[:-n]\n",
    "        ret_z[n:] = ret_z[n:] - ret_z[:-n]\n",
    "\n",
    "        ret_x = ret_x[n - 1:] / n\n",
    "        ret_z = ret_z[n - 1:] / n\n",
    "\n",
    "        return np.array([ret_x, ret_z]).T"
   ]
  },
  {
   "cell_type": "code",
   "execution_count": 31,
   "id": "73ae4312",
   "metadata": {},
   "outputs": [
    {
     "data": {
      "image/png": "[encoded data removed]",
      "text/plain": [
       "<Figure size 432x288 with 1 Axes>"
      ]
     },
     "metadata": {
      "needs_background": "light"
     },
     "output_type": "display_data"
    }
   ],
   "source": [
    "waypoints = []\n",
    "waypoints_arr = []\n",
    "# debug waypoint following\n",
    "f = Path(\"transforms_1.txt\").open('r')\n",
    "for line in f.readlines():\n",
    "    x, y, z = line.split(\",\")\n",
    "    x, y, z = float(x), float(y), float(z)\n",
    "    l = Location(x=x, y=y, z=z)\n",
    "    waypoints.append(Transform(location=l))\n",
    "    waypoints_arr.append([x, z])\n",
    "waypoints_arr = np.array(waypoints_arr)\n",
    "\n",
    "buffer = 10\n",
    "x_scale = 20\n",
    "y_scale = 20\n",
    "\n",
    "x_offset = abs(min(waypoints_arr[:, 0]))\n",
    "y_offset = abs(min(waypoints_arr[:, 1]))\n",
    "\n",
    "width = int((max(waypoints_arr[:, 0]) - min(waypoints_arr[:, 0])) * x_scale + x_offset + buffer)\n",
    "height = int((max(waypoints_arr[:, 1]) - min(waypoints_arr[:, 1])) * y_scale + y_offset + buffer)\n",
    "m = Map(x_offset=x_offset, y_offset=y_offset, x_scale=20, y_scale=20,\n",
    "          x_width=width, y_height=height, buffer=buffer)\n",
    "m.update(waypoints_arr)\n",
    "m.visualize()"
   ]
  },
  {
   "cell_type": "code",
   "execution_count": 43,
   "id": "f7acd519",
   "metadata": {},
   "outputs": [],
   "source": [
    "def moving_average(a, n=3) :\n",
    "    ret_x = np.cumsum(a[:, 0], dtype=float)\n",
    "    ret_z = np.cumsum(a[:, 1], dtype=float)\n",
    "    \n",
    "    ret_x[n:] = ret_x[n:] - ret_x[:-n]\n",
    "    ret_z[n:] = ret_z[n:] - ret_z[:-n]\n",
    "    \n",
    "    ret_x = ret_x[n - 1:] / n\n",
    "    ret_z = ret_z[n - 1:] / n\n",
    "\n",
    "    return np.array([ret_x, ret_z]).T"
   ]
  },
  {
   "cell_type": "code",
   "execution_count": 47,
   "id": "23f66f63",
   "metadata": {
    "scrolled": true
   },
   "outputs": [
    {
     "name": "stdout",
     "output_type": "stream",
     "text": [
      "(2613, 2) (2594, 2)\n"
     ]
    },
    {
     "data": {
      "image/png": "[encoded data removed]",
      "text/plain": [
       "<Figure size 432x288 with 1 Axes>"
      ]
     },
     "metadata": {
      "needs_background": "light"
     },
     "output_type": "display_data"
    }
   ],
   "source": [
    "waypoints_arr2 = moving_average(waypoints_arr, 20)\n",
    "\n",
    "print(waypoints_arr.shape, waypoints_arr2.shape)\n",
    "buffer = 10\n",
    "x_scale = 20\n",
    "y_scale = 20\n",
    "\n",
    "x_offset = abs(min(waypoints_arr[:, 0]))\n",
    "y_offset = abs(min(waypoints_arr[:, 1]))\n",
    "\n",
    "width = int((max(waypoints_arr[:, 0]) - min(waypoints_arr[:, 0])) * x_scale + x_offset + buffer)\n",
    "height = int((max(waypoints_arr[:, 1]) - min(waypoints_arr[:, 1])) * y_scale + y_offset + buffer)\n",
    "m = Map(x_offset=x_offset, y_offset=y_offset, x_scale=20, y_scale=20,\n",
    "          x_width=width, y_height=height, buffer=buffer)\n",
    "m.update(waypoints_arr2)\n",
    "m.visualize()"
   ]
  },
  {
   "cell_type": "code",
   "execution_count": null,
   "id": "5fdadaa8",
   "metadata": {},
   "outputs": [],
   "source": []
  },
  {
   "cell_type": "code",
   "execution_count": null,
   "id": "635a4a1e",
   "metadata": {},
   "outputs": [],
   "source": []
  },
  {
   "cell_type": "code",
   "execution_count": null,
   "id": "89eba4eb",
   "metadata": {},
   "outputs": [],
   "source": []
  },
  {
   "cell_type": "markdown",
   "id": "22507e57",
   "metadata": {},
   "source": [
    "# Filter out outliers"
   ]
  },
  {
   "cell_type": "code",
   "execution_count": 3,
   "id": "ff6c8687",
   "metadata": {},
   "outputs": [],
   "source": [
    "def filter_outlier(track, min_D=0, max_D=0.2, max_num_skip_threshold=100):\n",
    "    filtered = []\n",
    "    i = 1\n",
    "\n",
    "    max_diff = 0\n",
    "    min_diff = 100\n",
    "    max_num_points_skipped = 0\n",
    "    num_points_skipped = 0\n",
    "    filtered.append(waypoints_arr[0])\n",
    "    for i in range(1, len(waypoints_arr)):\n",
    "        x2, z2 = waypoints_arr[i]\n",
    "        x1, z1 = filtered[-1]\n",
    "        diff_x, diff_z = abs(x2 - x1), abs(z2 - z1)\n",
    "        diff_z\n",
    "        if min_D < diff_x < max_D and min_D < diff_z < max_D:\n",
    "            filtered.append([x2, z2])\n",
    "            num_points_skipped = 0\n",
    "        else:\n",
    "            num_points_skipped += 1\n",
    "\n",
    "        max_num_points_skipped = max(num_points_skipped, max_num_points_skipped)\n",
    "\n",
    "    filtered = np.array(filtered)\n",
    "    if max_num_points_skipped > max_num_skip_threshold:\n",
    "        print(\"WARNING: possibly bad map\")\n",
    "    return filtered"
   ]
  },
  {
   "cell_type": "code",
   "execution_count": 4,
   "id": "579c9df8",
   "metadata": {},
   "outputs": [],
   "source": [
    "waypoints = []\n",
    "waypoints_arr = []\n",
    "# debug waypoint following\n",
    "f = Path(\"transforms_1.txt\").open('r')\n",
    "for line in f.readlines():\n",
    "    x, y, z = line.split(\",\")\n",
    "    x, y, z = float(x), float(y), float(z)\n",
    "    l = Location(x=x, y=y, z=z)\n",
    "    waypoints.append(Transform(location=l))\n",
    "    waypoints_arr.append([x, z])\n",
    "waypoints_arr = np.array(waypoints_arr)\n",
    "\n",
    "filtered = filter_outlier(waypoints_arr, min_D=0, max_D=0.2, max_num_skip_threshold=100)"
   ]
  },
  {
   "cell_type": "code",
   "execution_count": 5,
   "id": "e953ed5a",
   "metadata": {},
   "outputs": [
    {
     "data": {
      "image/png": "[encoded data removed]",
      "text/plain": [
       "<Figure size 432x288 with 1 Axes>"
      ]
     },
     "metadata": {
      "needs_background": "light"
     },
     "output_type": "display_data"
    }
   ],
   "source": [
    "buffer = 10\n",
    "x_scale = 20\n",
    "y_scale = 20\n",
    "x_offset = abs(min(filtered[:, 0]))\n",
    "y_offset = abs(min(filtered[:, 1]))\n",
    "width = int((max(filtered[:, 0]) - min(filtered[:, 0])) * x_scale + x_offset + buffer)\n",
    "height = int((max(filtered[:, 1]) - min(filtered[:, 1])) * y_scale + y_offset + buffer)\n",
    "\n",
    "m = Map(x_offset=x_offset, y_offset=y_offset, x_scale=20, y_scale=20,\n",
    "        x_width=width, y_height=height, buffer=buffer)\n",
    "m.update(filtered)\n",
    "m.visualize()"
   ]
  },
  {
   "cell_type": "code",
   "execution_count": null,
   "id": "cab729b9",
   "metadata": {},
   "outputs": [],
   "source": []
  }
 ],
 "metadata": {
  "kernelspec": {
   "display_name": "Python 3 (ipykernel)",
   "language": "python",
   "name": "python3"
  },
  "language_info": {
   "codemirror_mode": {
    "name": "ipython",
    "version": 3
   },
   "file_extension": ".py",
   "mimetype": "text/x-python",
   "name": "python",
   "nbconvert_exporter": "python",
   "pygments_lexer": "ipython3",
   "version": "3.8.12"
  }
 },
 "nbformat": 4,
 "nbformat_minor": 5
}
