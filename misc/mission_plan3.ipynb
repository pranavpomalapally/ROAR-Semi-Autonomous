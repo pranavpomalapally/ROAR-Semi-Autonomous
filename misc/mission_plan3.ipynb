{
 "cells": [
  {
   "cell_type": "code",
   "execution_count": 10,
   "metadata": {
    "collapsed": true
   },
   "outputs": [],
   "source": [
    "from pathlib import Path\n",
    "import numpy as np\n",
    "import matplotlib.pyplot as plt\n",
    "from glob import glob\n",
    "from tqdm import tqdm\n",
    "import open3d as o3d\n",
    "import os\n"
   ]
  },
  {
   "cell_type": "code",
   "execution_count": 13,
   "outputs": [],
   "source": [
    "def read_pointclouds(dir_path: Path, voxel_down_sample=0.1) -> o3d.geometry.PointCloud:\n",
    "    assert dir_path.exists(), f\"{dir_path} does not exist\"\n",
    "    # load the files\n",
    "    pointcloud_folder = Path(dir_path)\n",
    "    files = glob(pointcloud_folder.as_posix() + \"/*.pcd\")\n",
    "    files.sort(key=os.path.getmtime)\n",
    "    pcd = o3d.geometry.PointCloud()\n",
    "    for file in tqdm(files):\n",
    "        p = o3d.io.read_point_cloud(file)\n",
    "        p_points = np.asarray(p.points)\n",
    "        p_colors = np.asarray(p.colors)\n",
    "\n",
    "        points = np.concatenate((np.asarray(pcd.points), p_points), axis=0)\n",
    "        colors = np.concatenate((np.asarray(pcd.colors), p_colors), axis=0)\n",
    "\n",
    "        pcd.points = o3d.utility.Vector3dVector(points)\n",
    "        pcd.colors = o3d.utility.Vector3dVector(colors)\n",
    "\n",
    "        pcd = pcd.voxel_down_sample(voxel_down_sample)\n",
    "    return pcd"
   ],
   "metadata": {
    "collapsed": false,
    "pycharm": {
     "name": "#%%\n"
    }
   }
  },
  {
   "cell_type": "code",
   "execution_count": 14,
   "outputs": [
    {
     "name": "stderr",
     "output_type": "stream",
     "text": [
      "100%|██████████| 686/686 [00:12<00:00, 57.01it/s]\n"
     ]
    }
   ],
   "source": [
    "dir_path = Path(\"./data/pointcloud_1\")\n",
    "pcd = read_pointclouds(dir_path=dir_path)"
   ],
   "metadata": {
    "collapsed": false,
    "pycharm": {
     "name": "#%%\n"
    }
   }
  },
  {
   "cell_type": "code",
   "execution_count": 70,
   "outputs": [],
   "source": [
    "from typing import Tuple, Optional\n",
    "import open3d as o3d\n",
    "import os\n",
    "from glob import glob\n",
    "from pathlib import Path\n",
    "import numpy as np\n",
    "import cv2\n",
    "import matplotlib.pyplot as plt\n",
    "from ROAR.utilities_module.data_structures_models import Location\n",
    "from tqdm import tqdm\n",
    "\n",
    "\n",
    "class Map:\n",
    "    def __init__(self,\n",
    "                 x_offset: float, y_offset: float, x_scale: float, y_scale: float,\n",
    "                 x_width: int = 5000, y_height: int = 5000, buffer: int = 100,\n",
    "                 name: str = \"map\"\n",
    "                 ):\n",
    "        self.name = name\n",
    "        self.x_offset = x_offset\n",
    "        self.y_offset = y_offset\n",
    "        self.x_scale = x_scale\n",
    "        self.y_scale = y_scale\n",
    "        self.x_width = x_width\n",
    "        self.y_height = y_height\n",
    "        self.buffer = buffer\n",
    "        self.map = np.zeros(shape=(self.y_height, self.x_width))\n",
    "\n",
    "    def project_free_points_with_height(self, pcd: o3d.geometry.PointCloud):\n",
    "        print(f\"Projecting {pcd} with their height as value onto current map\")\n",
    "        points = np.asarray(pcd.points)\n",
    "        for point in tqdm(points):\n",
    "            occu_coord = self.world_loc_to_occu_map_coord(Location.from_array(point))\n",
    "            val = point[1]\n",
    "            self.map[occu_coord[1]][occu_coord[0]] = val\n",
    "\n",
    "    def smooth_map(self, kernel_size=5):\n",
    "        kernel = np.ones((kernel_size,kernel_size), np.uint8)\n",
    "        self.map = cv2.erode(cv2.dilate(self.map, kernel, iterations=1), kernel, iterations=1)\n",
    "\n",
    "    def world_loc_to_occu_map_coord(self, loc: Location) -> Tuple[int, int]:\n",
    "        \"\"\"\n",
    "        Takes in a coordinate in the world reference frame and transform it into the occupancy map coordinate by\n",
    "        applying the equation\n",
    "        `int( (WORLD + OFFSET ) * SCALE)`\n",
    "\n",
    "        Args:\n",
    "            loc:\n",
    "\n",
    "        Returns:\n",
    "\n",
    "        \"\"\"\n",
    "        x = int((loc.x + self.x_offset) * self.x_scale) + self.buffer\n",
    "        y = int((loc.z + self.y_offset) * self.y_scale) + self.buffer\n",
    "        return x, y\n",
    "\n",
    "    def world_arr_to_occu_map(self, arr: np.ndarray) -> np.ndarray:\n",
    "        xs = ((arr[:, 0] + self.x_offset) * self.x_scale + self.buffer).astype(int)\n",
    "        ys = ((arr[:, 1] + self.y_offset) * self.y_scale + self.buffer).astype(int)\n",
    "        return np.array([xs, ys]).T\n",
    "\n",
    "    def occu_map_to_world(self, point: Tuple[int, int]) -> Tuple[float, float]:\n",
    "        x, y = point\n",
    "        X = (x - self.buffer) / self.x_scale - self.x_offset\n",
    "        Y = (y - self.buffer) / self.y_scale - self.y_offset\n",
    "        return X, Y\n",
    "\n",
    "    def get_all_obstacles_in_world(self, threshold=0.5) -> Tuple[np.ndarray, np.ndarray]:\n",
    "        xs, ys = np.where(self.map > threshold)\n",
    "        return (xs - self.buffer) / self.x_scale - self.x_offset, (ys - self.buffer) / self.y_scale - self.y_offset\n",
    "\n",
    "    def pcd_to_occu_map(self, pcd: o3d.geometry.PointCloud):\n",
    "        points = np.asarray(pcd.points)\n",
    "        xs = np.expand_dims(points[:, 0], axis=1)\n",
    "        zs = np.expand_dims(points[:, 2], axis=1)\n",
    "        arr = np.hstack([xs, zs])\n",
    "        return self.world_arr_to_occu_map(arr)\n",
    "\n",
    "    @staticmethod\n",
    "    def extract_xz_points_from_pcd(pcd: o3d.geometry.PointCloud) -> np.ndarray:\n",
    "        points = np.asarray(pcd.points)\n",
    "        xs = np.expand_dims(points[:, 0], axis=1)\n",
    "        zs = np.expand_dims(points[:, 2], axis=1)\n",
    "        points = np.hstack([xs, zs])\n",
    "        return points\n",
    "\n",
    "    def update(self, points: np.ndarray, val=1) -> int:\n",
    "        \"\"\"\n",
    "\n",
    "        Args:\n",
    "            val: value to update those points to\n",
    "            points: points is a 2D numpy array consist of X and Z coordinates\n",
    "\n",
    "        Returns:\n",
    "            number of points updated\n",
    "        \"\"\"\n",
    "        points = self.world_arr_to_occu_map(points)\n",
    "        self.map[points[:, 1], points[:, 0]] = val\n",
    "        return len(points)\n",
    "\n",
    "    def visualize(self, dsize: Optional[Tuple] = None):\n",
    "        img = self.map.copy()\n",
    "        if dsize:\n",
    "            img = cv2.resize(img, dsize=dsize)\n",
    "        plt.imshow(img, cmap='gray')\n",
    "        plt.show()\n",
    "        # cv2.imshow(self.name, img)\n",
    "\n",
    "    @staticmethod\n",
    "    def moving_average(a, n=3):\n",
    "        ret_x = np.cumsum(a[:, 0], dtype=float)\n",
    "        ret_z = np.cumsum(a[:, 1], dtype=float)\n",
    "\n",
    "        ret_x[n:] = ret_x[n:] - ret_x[:-n]\n",
    "        ret_z[n:] = ret_z[n:] - ret_z[:-n]\n",
    "\n",
    "        ret_x = ret_x[n - 1:] / n\n",
    "        ret_z = ret_z[n - 1:] / n\n",
    "\n",
    "        return np.array([ret_x, ret_z]).T\n",
    "\n",
    "    @staticmethod\n",
    "    def find_hyperparam_from_pcd(pcd: o3d.geometry.PointCloud, scale, buffer):\n",
    "        x_offset = np.max([abs(np.floor(pcd.get_min_bound()[0])), abs(np.ceil(pcd.get_max_bound()[0]))]).astype(int)\n",
    "        y_offset = np.max([abs(np.floor(pcd.get_min_bound()[2])), abs(np.ceil(pcd.get_max_bound()[2]))]).astype(int)\n",
    "        x_width = np.ceil((pcd.get_max_bound()[0] + x_offset) * scale + buffer).astype(int)\n",
    "        y_height = np.ceil((pcd.get_max_bound()[2] + y_offset) * scale + buffer).astype(int)\n",
    "        return x_offset, y_offset, x_width, y_height\n",
    "\n",
    "    @staticmethod\n",
    "    def read_pointclouds(dir_path: Path, voxel_down_sample=0.1) -> o3d.geometry.PointCloud:\n",
    "        assert dir_path.exists(), f\"{dir_path} does not exist\"\n",
    "        # load the files\n",
    "        pointcloud_folder = Path(dir_path)\n",
    "        files = glob(pointcloud_folder.as_posix() + \"/*.pcd\")\n",
    "        files.sort(key=os.path.getmtime)\n",
    "        pcd = o3d.geometry.PointCloud()\n",
    "        for file in tqdm(files):\n",
    "            p = o3d.io.read_point_cloud(file)\n",
    "            p_points = np.asarray(p.points)\n",
    "            p_colors = np.asarray(p.colors)\n",
    "\n",
    "            points = np.concatenate((np.asarray(pcd.points), p_points), axis=0)\n",
    "            colors = np.concatenate((np.asarray(pcd.colors), p_colors), axis=0)\n",
    "\n",
    "            pcd.points = o3d.utility.Vector3dVector(points)\n",
    "            pcd.colors = o3d.utility.Vector3dVector(colors)\n",
    "\n",
    "            pcd = pcd.voxel_down_sample(voxel_down_sample)\n",
    "        return pcd"
   ],
   "metadata": {
    "collapsed": false,
    "pycharm": {
     "name": "#%%\n"
    }
   }
  },
  {
   "cell_type": "code",
   "execution_count": 78,
   "outputs": [],
   "source": [
    "scale = 15\n",
    "buffer = 0\n",
    "x_offset, y_offset, x_width, y_height = Map.find_hyperparam_from_pcd(pcd=pcd, scale=scale, buffer=buffer)\n",
    "map_with_height = Map(\n",
    "    x_offset=x_offset, y_offset=y_offset, x_scale=scale, y_scale=scale,\n",
    "    x_width=x_width, y_height=y_height, buffer=buffer, name=\"map_with_height\"\n",
    ")\n",
    "\n",
    "occu_map = Map(\n",
    "    x_offset=x_offset, y_offset=y_offset, x_scale=scale, y_scale=scale,\n",
    "    x_width=x_width, y_height=y_height, buffer=buffer, name=\"occu_map\"\n",
    ")\n",
    "skeleton_map = Map(\n",
    "    x_offset=x_offset, y_offset=y_offset, x_scale=scale, y_scale=scale,\n",
    "    x_width=x_width, y_height=y_height, buffer=buffer, name=\"skeleton_map\"\n",
    ")"
   ],
   "metadata": {
    "collapsed": false,
    "pycharm": {
     "name": "#%%\n"
    }
   }
  },
  {
   "cell_type": "code",
   "execution_count": 79,
   "outputs": [
    {
     "name": "stdout",
     "output_type": "stream",
     "text": [
      "Projecting PointCloud with 131855 points. with their height as value onto current map\n"
     ]
    },
    {
     "name": "stderr",
     "output_type": "stream",
     "text": [
      "100%|██████████| 131855/131855 [00:00<00:00, 176740.28it/s]\n"
     ]
    }
   ],
   "source": [
    "map_with_height.project_free_points_with_height(pcd)\n",
    "occu_map.update(Map.extract_xz_points_from_pcd(pcd=pcd))\n",
    "occu_map.smooth_map(5)"
   ],
   "metadata": {
    "collapsed": false,
    "pycharm": {
     "name": "#%%\n"
    }
   }
  },
  {
   "cell_type": "code",
   "execution_count": 80,
   "outputs": [
    {
     "data": {
      "text/plain": "<matplotlib.image.AxesImage at 0x7fe29018d5b0>"
     },
     "execution_count": 80,
     "metadata": {},
     "output_type": "execute_result"
    },
    {
     "data": {
      "text/plain": "<Figure size 432x288 with 1 Axes>",
      "image/png": "[encoded data removed]"
     },
     "metadata": {
      "needs_background": "light"
     },
     "output_type": "display_data"
    }
   ],
   "source": [
    "plt.imshow(occu_map.map, cmap='gray')"
   ],
   "metadata": {
    "collapsed": false,
    "pycharm": {
     "name": "#%%\n"
    }
   }
  },
  {
   "cell_type": "code",
   "execution_count": 397,
   "outputs": [],
   "source": [
    "from skimage.morphology import skeletonize\n",
    "from skimage import data\n",
    "import matplotlib.pyplot as plt\n",
    "from skimage.util import invert"
   ],
   "metadata": {
    "collapsed": false,
    "pycharm": {
     "name": "#%%\n"
    }
   }
  },
  {
   "cell_type": "code",
   "execution_count": 398,
   "outputs": [],
   "source": [
    "nav_map = np.zeros(shape=(skeleton_map.map.shape[0], skeleton_map.map.shape[1], 3),\n",
    "                   dtype=np.uint8)\n",
    "nav_map[np.where(skeleton_map.map > 0.5)] = np.array([255, 255, 255]).astype(np.uint8)"
   ],
   "metadata": {
    "collapsed": false,
    "pycharm": {
     "name": "#%%\n"
    }
   }
  },
  {
   "cell_type": "code",
   "execution_count": 399,
   "outputs": [],
   "source": [
    "# perform skeletonization\n",
    "skeleton_map.map = skeletonize(occu_map.map)\n",
    "skeleton_map.map = skeleton_map.map.astype(float)\n",
    "skeleton_map.smooth_map(2)"
   ],
   "metadata": {
    "collapsed": false,
    "pycharm": {
     "name": "#%%\n"
    }
   }
  },
  {
   "cell_type": "code",
   "execution_count": 400,
   "outputs": [],
   "source": [
    "def find_closest_on_map(data, coord):\n",
    "    all_waypoint_coords = np.vstack(np.where(data == 1))\n",
    "    dist = np.linalg.norm(all_waypoint_coords - coord, axis=0)\n",
    "    min_index = np.argmin(dist)\n",
    "    min_coord =  all_waypoint_coords[:, min_index]\n",
    "    return min_coord"
   ],
   "metadata": {
    "collapsed": false,
    "pycharm": {
     "name": "#%%\n"
    }
   }
  },
  {
   "cell_type": "code",
   "execution_count": 401,
   "outputs": [],
   "source": [
    "start_loc:Location = Location.from_array(np.array([-1.1319398,0.02977551,0.3790202]))\n",
    "end_loc: Location = Location.from_array(np.array([-7.5140696,-0.04548472,-2.4632778]))\n",
    "\n",
    "start_coord = np.expand_dims(np.array(skeleton_map.world_loc_to_occu_map_coord(start_loc))[::-1], 1)\n",
    "end_coord = np.expand_dims(np.array(skeleton_map.world_loc_to_occu_map_coord(end_loc))[::-1], 1)\n",
    "\n",
    "# find the closest point to start coord in skeleton map\n",
    "start_coord = find_closest_on_map(skeleton_map.map, start_coord)\n",
    "end_coord = np.array([start_coord[0]+1, start_coord[1]])"
   ],
   "metadata": {
    "collapsed": false,
    "pycharm": {
     "name": "#%%\n"
    }
   }
  },
  {
   "cell_type": "code",
   "execution_count": 402,
   "outputs": [],
   "source": [
    "nav_map[start_coord[0] - 2: start_coord[0] + 2, start_coord[1]-2:start_coord[1]+2] = [255,0,0]\n",
    "nav_map[end_coord[0]-2:end_coord[0]+2, end_coord[1]-2:end_coord[1]+2] = [0,0,255]\n"
   ],
   "metadata": {
    "collapsed": false,
    "pycharm": {
     "name": "#%%\n"
    }
   }
  },
  {
   "cell_type": "code",
   "execution_count": 403,
   "outputs": [
    {
     "data": {
      "text/plain": "<matplotlib.image.AxesImage at 0x7fe27801bd00>"
     },
     "execution_count": 403,
     "metadata": {},
     "output_type": "execute_result"
    },
    {
     "data": {
      "text/plain": "<Figure size 432x288 with 1 Axes>",
      "image/png": "[encoded data removed]"
     },
     "metadata": {
      "needs_background": "light"
     },
     "output_type": "display_data"
    }
   ],
   "source": [
    "plt.imshow(nav_map)"
   ],
   "metadata": {
    "collapsed": false,
    "pycharm": {
     "name": "#%%\n"
    }
   }
  },
  {
   "cell_type": "code",
   "execution_count": 404,
   "outputs": [],
   "source": [
    "# do DFS until I've repeated at the start location\n",
    "motions = np.array([[-1, 0],[0, -1],[-1, -1],[-1, 1],[1, -1],[1, 1],[1, 0],[0, 1]]).astype(int)\n",
    "visited = set()\n",
    "to_visit = [] # nodes to visit\n",
    "\n",
    "current_node = (start_coord[0], start_coord[1])\n",
    "end_node = (end_coord[0], end_coord[1])\n",
    "visited.add(current_node)\n",
    "\n"
   ],
   "metadata": {
    "collapsed": false,
    "pycharm": {
     "name": "#%%\n"
    }
   }
  },
  {
   "cell_type": "code",
   "execution_count": 405,
   "outputs": [],
   "source": [
    "def dfs(node, target, path, visited=set()):\n",
    "    path.append(node)\n",
    "    visited.add(node)\n",
    "    if node == target:\n",
    "        return path\n",
    "    for motion in motions:\n",
    "        x, y = node+motion\n",
    "        if 0<=x<skeleton_map.map.shape[0] and 0<=y<skeleton_map.map.shape[1] and skeleton_map.map[x][y] == 1 and (x, y) not in visited:\n",
    "            result = dfs(node=(x, y), target=target, path=path, visited=visited)\n",
    "            if result is not None:\n",
    "                return result\n",
    "            path.pop()\n",
    "    return None\n"
   ],
   "metadata": {
    "collapsed": false,
    "pycharm": {
     "name": "#%%\n"
    }
   }
  },
  {
   "cell_type": "code",
   "execution_count": 406,
   "outputs": [],
   "source": [
    "path = []\n",
    "path = dfs(node=current_node, target=end_node, path=path, visited=set())"
   ],
   "metadata": {
    "collapsed": false,
    "pycharm": {
     "name": "#%%\n"
    }
   }
  },
  {
   "cell_type": "code",
   "execution_count": 407,
   "outputs": [],
   "source": [
    "for coord in path:\n",
    "    nav_map[coord[0]][coord[1]] = [0,255,0]"
   ],
   "metadata": {
    "collapsed": false,
    "pycharm": {
     "name": "#%%\n"
    }
   }
  },
  {
   "cell_type": "code",
   "execution_count": 408,
   "outputs": [
    {
     "data": {
      "text/plain": "<matplotlib.image.AxesImage at 0x7fe298824e80>"
     },
     "execution_count": 408,
     "metadata": {},
     "output_type": "execute_result"
    },
    {
     "data": {
      "text/plain": "<Figure size 432x288 with 1 Axes>",
      "image/png": "[encoded data removed]"
     },
     "metadata": {
      "needs_background": "light"
     },
     "output_type": "display_data"
    }
   ],
   "source": [
    "plt.imshow(nav_map)"
   ],
   "metadata": {
    "collapsed": false,
    "pycharm": {
     "name": "#%%\n"
    }
   }
  },
  {
   "cell_type": "code",
   "execution_count": 409,
   "outputs": [
    {
     "data": {
      "text/plain": "<matplotlib.image.AxesImage at 0x7fe298860e80>"
     },
     "execution_count": 409,
     "metadata": {},
     "output_type": "execute_result"
    },
    {
     "data": {
      "text/plain": "<Figure size 432x288 with 1 Axes>",
      "image/png": "[encoded data removed]"
     },
     "metadata": {
      "needs_background": "light"
     },
     "output_type": "display_data"
    }
   ],
   "source": [
    "nav_map = np.zeros(shape=(skeleton_map.map.shape[0], skeleton_map.map.shape[1], 3),\n",
    "                   dtype=np.uint8)\n",
    "nav_map[np.where(occu_map.map > 0.5)] = np.array([255, 255, 255]).astype(np.uint8)\n",
    "for coord in path:\n",
    "    nav_map[coord[0]][coord[1]] = [0,255,0]\n",
    "plt.imshow(nav_map)"
   ],
   "metadata": {
    "collapsed": false,
    "pycharm": {
     "name": "#%%\n"
    }
   }
  },
  {
   "cell_type": "code",
   "execution_count": 409,
   "outputs": [],
   "source": [],
   "metadata": {
    "collapsed": false,
    "pycharm": {
     "name": "#%%\n"
    }
   }
  },
  {
   "cell_type": "code",
   "execution_count": 409,
   "outputs": [],
   "source": [],
   "metadata": {
    "collapsed": false,
    "pycharm": {
     "name": "#%%\n"
    }
   }
  },
  {
   "cell_type": "code",
   "execution_count": null,
   "outputs": [],
   "source": [],
   "metadata": {
    "collapsed": false,
    "pycharm": {
     "name": "#%%\n"
    }
   }
  }
 ],
 "metadata": {
  "kernelspec": {
   "display_name": "Python 3",
   "language": "python",
   "name": "python3"
  },
  "language_info": {
   "codemirror_mode": {
    "name": "ipython",
    "version": 2
   },
   "file_extension": ".py",
   "mimetype": "text/x-python",
   "name": "python",
   "nbconvert_exporter": "python",
   "pygments_lexer": "ipython2",
   "version": "2.7.6"
  }
 },
 "nbformat": 4,
 "nbformat_minor": 0
}